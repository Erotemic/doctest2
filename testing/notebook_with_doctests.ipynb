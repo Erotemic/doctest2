{
 "cells": [
  {
   "cell_type": "code",
   "execution_count": 1,
   "metadata": {},
   "outputs": [],
   "source": [
    "def inception(text):\n",
    "    '''\n",
    "    Example:\n",
    "        >>> inception(\"I heard you liked doctests\")\n",
    "    '''\n",
    "    print(text + str(x)) \n",
    "    \n",
    "x = 10\n",
    "\n",
    "def foo():\n",
    "    return \"bar\"\n",
    "\n",
    "def inception2(text):\n",
    "    '''\n",
    "    Example:\n",
    "        >>> inception2(\"I heard you liked doctests\" + foo())\n",
    "    '''\n",
    "    print(text + str(x)) \n",
    "    \n",
    "def random_number():\n",
    "  \"\"\"Returns a random integer from 1 to 6.\n",
    "  \n",
    "  >>> type(random_number())\n",
    "  <class 'int'>\n",
    "  >>> random_number() in range(1,7)\n",
    "  True\n",
    "  \"\"\"\n",
    "  return 5  # Chosen by a fair dice roll"
   ]
  },
  {
   "cell_type": "code",
   "execution_count": 2,
   "metadata": {},
   "outputs": [],
   "source": [
    "#import xdoctest\n",
    "#xdoctest.doctest_callable(inception)"
   ]
  },
  {
   "cell_type": "code",
   "execution_count": 3,
   "metadata": {},
   "outputs": [],
   "source": [
    "#import xdoctest\n",
    "#xdoctest.doctest_callable(inception2)"
   ]
  },
  {
   "cell_type": "code",
   "execution_count": 4,
   "metadata": {},
   "outputs": [],
   "source": [
    "#import xdoctest\n",
    "#xdoctest.doctest_callable(random_number)"
   ]
  },
  {
   "cell_type": "code",
   "execution_count": 26,
   "metadata": {},
   "outputs": [
    {
     "name": "stdout",
     "output_type": "stream",
     "text": [
      "frame_parent = <frame at 0x7f2685174e40, file '<ipython-input-26-bfc796126c95>', line 3, code <module>>\n",
      "modpath = <module '__main__'>\n",
      "Start doctest_module(None)\n",
      "Listing tests\n",
      "calldef = <xdoctest.static_analysis.CallDefNode object at 0x7f26978a2d30>\n",
      "calldef = <xdoctest.static_analysis.CallDefNode object at 0x7f26508ea9d0>\n",
      "calldef = <xdoctest.static_analysis.CallDefNode object at 0x7f26508ea130>\n",
      "calldef = <xdoctest.static_analysis.CallDefNode object at 0x7f26508ea1c0>\n"
     ]
    },
    {
     "ename": "TypeError",
     "evalue": "can only concatenate str (not \"module\") to str",
     "output_type": "error",
     "traceback": [
      "\u001b[0;31m---------------------------------------------------------------------------\u001b[0m",
      "\u001b[0;31mTypeError\u001b[0m                                 Traceback (most recent call last)",
      "\u001b[0;32m<ipython-input-26-bfc796126c95>\u001b[0m in \u001b[0;36m<module>\u001b[0;34m\u001b[0m\n\u001b[1;32m      1\u001b[0m \u001b[0;32mif\u001b[0m \u001b[0m__name__\u001b[0m \u001b[0;34m==\u001b[0m \u001b[0;34m'__main__'\u001b[0m\u001b[0;34m:\u001b[0m\u001b[0;34m\u001b[0m\u001b[0;34m\u001b[0m\u001b[0m\n\u001b[1;32m      2\u001b[0m     \u001b[0;32mimport\u001b[0m \u001b[0mxdoctest\u001b[0m\u001b[0;34m\u001b[0m\u001b[0;34m\u001b[0m\u001b[0m\n\u001b[0;32m----> 3\u001b[0;31m     \u001b[0mxdoctest\u001b[0m\u001b[0;34m.\u001b[0m\u001b[0mdoctest_module\u001b[0m\u001b[0;34m(\u001b[0m\u001b[0mcommand\u001b[0m\u001b[0;34m=\u001b[0m\u001b[0;34m'list'\u001b[0m\u001b[0;34m)\u001b[0m\u001b[0;34m\u001b[0m\u001b[0;34m\u001b[0m\u001b[0m\n\u001b[0m",
      "\u001b[0;32m~/code/xdoctest/xdoctest/runner.py\u001b[0m in \u001b[0;36mdoctest_module\u001b[0;34m(modpath_or_name, command, argv, exclude, style, verbose, config, durations, analysis)\u001b[0m\n\u001b[1;32m    221\u001b[0m             \u001b[0m_log\u001b[0m\u001b[0;34m(\u001b[0m\u001b[0;34m'... no docstrings with examples found'\u001b[0m\u001b[0;34m)\u001b[0m\u001b[0;34m\u001b[0m\u001b[0;34m\u001b[0m\u001b[0m\n\u001b[1;32m    222\u001b[0m         \u001b[0;32melse\u001b[0m\u001b[0;34m:\u001b[0m\u001b[0;34m\u001b[0m\u001b[0;34m\u001b[0m\u001b[0m\n\u001b[0;32m--> 223\u001b[0;31m             _log('    ' + '\\n    '.join([example.cmdline  # + ' @ ' + str(example.lineno)\n\u001b[0m\u001b[1;32m    224\u001b[0m                                           for example in examples]))\n\u001b[1;32m    225\u001b[0m         \u001b[0mrun_summary\u001b[0m \u001b[0;34m=\u001b[0m \u001b[0;34m{\u001b[0m\u001b[0;34m'action'\u001b[0m\u001b[0;34m:\u001b[0m \u001b[0;34m'list'\u001b[0m\u001b[0;34m}\u001b[0m\u001b[0;34m\u001b[0m\u001b[0;34m\u001b[0m\u001b[0m\n",
      "\u001b[0;32m~/code/xdoctest/xdoctest/runner.py\u001b[0m in \u001b[0;36m<listcomp>\u001b[0;34m(.0)\u001b[0m\n\u001b[1;32m    221\u001b[0m             \u001b[0m_log\u001b[0m\u001b[0;34m(\u001b[0m\u001b[0;34m'... no docstrings with examples found'\u001b[0m\u001b[0;34m)\u001b[0m\u001b[0;34m\u001b[0m\u001b[0;34m\u001b[0m\u001b[0m\n\u001b[1;32m    222\u001b[0m         \u001b[0;32melse\u001b[0m\u001b[0;34m:\u001b[0m\u001b[0;34m\u001b[0m\u001b[0;34m\u001b[0m\u001b[0m\n\u001b[0;32m--> 223\u001b[0;31m             _log('    ' + '\\n    '.join([example.cmdline  # + ' @ ' + str(example.lineno)\n\u001b[0m\u001b[1;32m    224\u001b[0m                                           for example in examples]))\n\u001b[1;32m    225\u001b[0m         \u001b[0mrun_summary\u001b[0m \u001b[0;34m=\u001b[0m \u001b[0;34m{\u001b[0m\u001b[0;34m'action'\u001b[0m\u001b[0;34m:\u001b[0m \u001b[0;34m'list'\u001b[0m\u001b[0;34m}\u001b[0m\u001b[0;34m\u001b[0m\u001b[0;34m\u001b[0m\u001b[0m\n",
      "\u001b[0;32m~/code/xdoctest/xdoctest/doctest_example.py\u001b[0m in \u001b[0;36mcmdline\u001b[0;34m(self)\u001b[0m\n\u001b[1;32m    718\u001b[0m             \u001b[0;32melse\u001b[0m\u001b[0;34m:\u001b[0m\u001b[0;34m\u001b[0m\u001b[0;34m\u001b[0m\u001b[0m\n\u001b[1;32m    719\u001b[0m                 \u001b[0;31m# Probably safer to always use the path\u001b[0m\u001b[0;34m\u001b[0m\u001b[0;34m\u001b[0m\u001b[0;34m\u001b[0m\u001b[0m\n\u001b[0;32m--> 720\u001b[0;31m                 \u001b[0;32mreturn\u001b[0m \u001b[0;34m'python -m xdoctest '\u001b[0m \u001b[0;34m+\u001b[0m \u001b[0mself\u001b[0m\u001b[0;34m.\u001b[0m\u001b[0mmodpath\u001b[0m \u001b[0;34m+\u001b[0m \u001b[0;34m' '\u001b[0m \u001b[0;34m+\u001b[0m \u001b[0mself\u001b[0m\u001b[0;34m.\u001b[0m\u001b[0munique_callname\u001b[0m\u001b[0;34m\u001b[0m\u001b[0;34m\u001b[0m\u001b[0m\n\u001b[0m\u001b[1;32m    721\u001b[0m         \u001b[0;32melse\u001b[0m\u001b[0;34m:\u001b[0m\u001b[0;34m\u001b[0m\u001b[0;34m\u001b[0m\u001b[0m\n\u001b[1;32m    722\u001b[0m             \u001b[0;32mraise\u001b[0m \u001b[0mKeyError\u001b[0m\u001b[0;34m(\u001b[0m\u001b[0mself\u001b[0m\u001b[0;34m.\u001b[0m\u001b[0mmode\u001b[0m\u001b[0;34m)\u001b[0m\u001b[0;34m\u001b[0m\u001b[0;34m\u001b[0m\u001b[0m\n",
      "\u001b[0;31mTypeError\u001b[0m: can only concatenate str (not \"module\") to str"
     ]
    }
   ],
   "source": [
    "if __name__ == '__main__':\n",
    "    import xdoctest\n",
    "    xdoctest.doctest_module(command='list')"
   ]
  },
  {
   "cell_type": "code",
   "execution_count": 13,
   "metadata": {},
   "outputs": [
    {
     "name": "stdout",
     "output_type": "stream",
     "text": [
      "<module '__main__'>\n"
     ]
    }
   ],
   "source": [
    "import sys\n",
    "print(sys.modules[__name__])"
   ]
  },
  {
   "cell_type": "code",
   "execution_count": null,
   "metadata": {},
   "outputs": [],
   "source": []
  }
 ],
 "metadata": {
  "kernelspec": {
   "display_name": "Python 3",
   "language": "python",
   "name": "python3"
  },
  "language_info": {
   "codemirror_mode": {
    "name": "ipython",
    "version": 3
   },
   "file_extension": ".py",
   "mimetype": "text/x-python",
   "name": "python",
   "nbconvert_exporter": "python",
   "pygments_lexer": "ipython3",
   "version": "3.8.3"
  }
 },
 "nbformat": 4,
 "nbformat_minor": 4
}
